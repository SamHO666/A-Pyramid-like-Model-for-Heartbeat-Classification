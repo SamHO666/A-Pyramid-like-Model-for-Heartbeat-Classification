{
 "cells": [
  {
   "cell_type": "markdown",
   "metadata": {},
   "source": [
    "# Import Necessary Packages"
   ]
  },
  {
   "cell_type": "code",
   "execution_count": 1,
   "metadata": {},
   "outputs": [],
   "source": [
    "import pandas as pd\n",
    "import numpy as np\n",
    "import matplotlib.pyplot as plt\n",
    "import json\n",
    "import math\n",
    "import random\n",
    "from sklearn import preprocessing\n",
    "from sklearn.preprocessing import StandardScaler\n",
    "from sklearn.svm import SVC\n",
    "from sklearn.metrics import accuracy_score\n",
    "from sklearn.metrics import confusion_matrix\n",
    "\n",
    "from sklearn.linear_model import Perceptron\n",
    "from sklearn.linear_model import LogisticRegression\n",
    "from sklearn.naive_bayes import GaussianNB\n",
    "from sklearn.neighbors import KNeighborsClassifier\n",
    "from sklearn.svm import LinearSVC\n",
    "from sklearn.svm import SVC\n",
    "from sklearn.tree import DecisionTreeClassifier\n",
    "from sklearn.calibration import CalibratedClassifierCV\n",
    "from sklearn.ensemble import VotingClassifier\n",
    "\n",
    "from imblearn.combine import SMOTEENN\n",
    "from collections import Counter\n",
    "\n",
    "from pyemd import emd_samples\n",
    "from scipy.stats import ttest_ind"
   ]
  },
  {
   "cell_type": "markdown",
   "metadata": {},
   "source": [
    "#### Disable runtime warnings"
   ]
  },
  {
   "cell_type": "code",
   "execution_count": 2,
   "metadata": {},
   "outputs": [],
   "source": [
    "import sys\n",
    "\n",
    "if not sys.warnoptions:\n",
    "    import warnings\n",
    "    warnings.simplefilter(\"ignore\")"
   ]
  },
  {
   "cell_type": "markdown",
   "metadata": {},
   "source": [
    "# Heartbeat Annotation"
   ]
  },
  {
   "cell_type": "code",
   "execution_count": 3,
   "metadata": {},
   "outputs": [],
   "source": [
    "N = ['N', 'L', 'R', 'e', 'j']\n",
    "SVEB = ['A', 'a', 'J', 'S']\n",
    "VEB = ['V', 'E']\n",
    "F = ['F']\n",
    "Q = ['l', 'f', 'Q']\n",
    "Non_beat_anns = ['[', ']', '!', 'x', '(', ')', 'p', 't', 'u', '`', '~', '^', '|', '+', 's', 'T', '*', 'D', '=', '\"', '@']"
   ]
  },
  {
   "cell_type": "markdown",
   "metadata": {},
   "source": [
    "# DS1 Preparation ------ Training Set"
   ]
  },
  {
   "cell_type": "markdown",
   "metadata": {},
   "source": [
    "#### DS1 Preparation ------ Training Set"
   ]
  },
  {
   "cell_type": "code",
   "execution_count": 4,
   "metadata": {},
   "outputs": [],
   "source": [
    "DS1 = ['101', '106', '108', '109', '112', '114', '115', '116', '118', '119', '122', '124', \n",
    "       '201', '203', '205', '207', '208', '209', '215', '220', '223', '230']"
   ]
  },
  {
   "cell_type": "markdown",
   "metadata": {},
   "source": [
    "Only the lead0 is used"
   ]
  },
  {
   "cell_type": "code",
   "execution_count": 5,
   "metadata": {},
   "outputs": [],
   "source": [
    "Training_Hbs = {}\n",
    "\n",
    "for ds in DS1:\n",
    "    Training_Hbs[ds] = pd.read_csv('~/Data/Extracted Features/PLOS_ONE/DS1/' + ds + '_lead0.csv')\n",
    "    \n",
    "    new_beat_0 = []\n",
    "    \n",
    "    cA7_lead0 = []\n",
    "    cD7_lead0 = []\n",
    "    cD6_lead0 = []\n",
    "    cD5_lead0 = []\n",
    "    cD4_lead0 = []\n",
    "    cD3_lead0 = []\n",
    "    cD2_lead0 = []\n",
    "    cD1_lead0 = []\n",
    "    \n",
    "    for i in range(len(Training_Hbs[ds]['beat'])):\n",
    "        new_beat_0.append(pd.Series(json.loads(Training_Hbs[ds]['beatValues'][i]), index=json.loads(Training_Hbs[ds]['beatIndex'][i])))\n",
    "        \n",
    "        cA7_lead0.append(json.loads(Training_Hbs[ds]['cA7'][i]))\n",
    "        cD7_lead0.append(json.loads(Training_Hbs[ds]['cD7'][i]))\n",
    "        cD6_lead0.append(json.loads(Training_Hbs[ds]['cD6'][i]))\n",
    "        cD5_lead0.append(json.loads(Training_Hbs[ds]['cD5'][i]))\n",
    "        cD4_lead0.append(json.loads(Training_Hbs[ds]['cD4'][i]))\n",
    "        cD3_lead0.append(json.loads(Training_Hbs[ds]['cD3'][i]))\n",
    "        cD2_lead0.append(json.loads(Training_Hbs[ds]['cD2'][i]))\n",
    "        cD1_lead0.append(json.loads(Training_Hbs[ds]['cD1'][i]))\n",
    "        \n",
    "    Training_Hbs[ds]['beat'] = new_beat_0\n",
    "    Training_Hbs[ds]['cA7'] = cA7_lead0\n",
    "    Training_Hbs[ds]['cD7'] = cD7_lead0                      \n",
    "    Training_Hbs[ds]['cD6'] = cD6_lead0\n",
    "    Training_Hbs[ds]['cD5'] = cD5_lead0                      \n",
    "    Training_Hbs[ds]['cD4'] = cD4_lead0 \n",
    "    Training_Hbs[ds]['cD3'] = cD3_lead0                      \n",
    "    Training_Hbs[ds]['cD2'] = cD2_lead0 \n",
    "    Training_Hbs[ds]['cD1'] = cD1_lead0      "
   ]
  },
  {
   "cell_type": "markdown",
   "metadata": {},
   "source": [
    "#### Feature vector construction"
   ]
  },
  {
   "cell_type": "code",
   "execution_count": 6,
   "metadata": {},
   "outputs": [],
   "source": [
    "firLevFeatures = ['preRR', 'postRR']\n",
    "secLevFeatures = ['postRR', 'preRR', 'skewness', 'kurtosis', 'cD7', 'cD6', 'cD5', 'cD4']\n",
    "\n",
    "lev1_tr_data = {}     # This is a dict, where each ds in DS1 acts as a key\n",
    "lev1_tr_label = {}\n",
    "\n",
    "lev2_tr_data = []   # The second level training data contains all the heartbeats in DS1\n",
    "lev2_tr_label = []\n",
    "\n",
    "for ds in DS1:\n",
    "    dsLast = len(Training_Hbs[ds]['annIdx']) - 1\n",
    "    dsData = []\n",
    "    dsLabel = []\n",
    "    \n",
    "    for i in range(1, dsLast):\n",
    "        \n",
    "        preRR = Training_Hbs[ds]['preRR'][i]\n",
    "        postRR = Training_Hbs[ds]['postRR'][i]\n",
    "        \n",
    "        if preRR < 54 or preRR > 720:\n",
    "            continue\n",
    "        if postRR < 54 or postRR > 720:\n",
    "            continue\n",
    "        \n",
    "        hb1 = []\n",
    "        hb1.append(preRR)\n",
    "        hb1.append(postRR)\n",
    "        dsData.append(np.array(hb1))\n",
    "        \n",
    "        hb2 = []\n",
    "        for f in secLevFeatures:\n",
    "            if type(Training_Hbs[ds][f][i]) == list:\n",
    "                hb2.extend(Training_Hbs[ds][f][i])\n",
    "            else:\n",
    "                hb2.append(Training_Hbs[ds][f][i])\n",
    "        lev2_tr_data.append(np.array(hb2))\n",
    "        \n",
    "        if Training_Hbs[ds]['ann'][i] in N:\n",
    "            dsLabel.append('N')\n",
    "            lev2_tr_label.append('N')\n",
    "        elif Training_Hbs[ds]['ann'][i] in SVEB:\n",
    "            dsLabel.append('S')\n",
    "            lev2_tr_label.append('S')\n",
    "        elif Training_Hbs[ds]['ann'][i] in VEB:\n",
    "            dsLabel.append('V')\n",
    "            lev2_tr_label.append('V')\n",
    "        elif Training_Hbs[ds]['ann'][i] in F:\n",
    "            dsLabel.append('F')\n",
    "            lev2_tr_label.append('F')\n",
    "        elif Training_Hbs[ds]['ann'][i] in Q:\n",
    "            dsLabel.append('Q')\n",
    "            lev2_tr_label.append('Q')\n",
    "        else:\n",
    "            continue\n",
    "            \n",
    "    lev1_tr_data[ds] = np.array(dsData)\n",
    "    lev1_tr_label[ds] = np.array(dsLabel)"
   ]
  },
  {
   "cell_type": "markdown",
   "metadata": {},
   "source": [
    "# DS2 Preparation ------ Testing Set"
   ]
  },
  {
   "cell_type": "code",
   "execution_count": 7,
   "metadata": {},
   "outputs": [],
   "source": [
    "DS2 = ['100', '103', '105', '111', '113', '117', '121', '123', '200', '202', '210', '212', \n",
    "       '213', '214', '219', '221', '222', '228', '231', '232', '233', '234']"
   ]
  },
  {
   "cell_type": "markdown",
   "metadata": {},
   "source": [
    "#### Data Loading from Files"
   ]
  },
  {
   "cell_type": "code",
   "execution_count": 8,
   "metadata": {},
   "outputs": [],
   "source": [
    "Testing_Hbs = {}\n",
    "\n",
    "for ds in DS2:\n",
    "    Testing_Hbs[ds] = pd.read_csv('~/Data/Extracted Features/PLOS_ONE/DS2/' + ds + '_lead0.csv')\n",
    "    \n",
    "    new_beat_0 = []\n",
    "    \n",
    "    cA7_lead0 = []\n",
    "    cD7_lead0 = []\n",
    "    cD6_lead0 = []\n",
    "    cD5_lead0 = []\n",
    "    cD4_lead0 = []\n",
    "    cD3_lead0 = []\n",
    "    cD2_lead0 = []\n",
    "    cD1_lead0 = []\n",
    "    \n",
    "    for i in range(len(Testing_Hbs[ds]['beat'])):\n",
    "        new_beat_0.append(pd.Series(json.loads(Testing_Hbs[ds]['beatValues'][i]), index=json.loads(Testing_Hbs[ds]['beatIndex'][i])))\n",
    "        \n",
    "        cA7_lead0.append(json.loads(Testing_Hbs[ds]['cA7'][i]))\n",
    "        cD7_lead0.append(json.loads(Testing_Hbs[ds]['cD7'][i]))\n",
    "        cD6_lead0.append(json.loads(Testing_Hbs[ds]['cD6'][i]))\n",
    "        cD5_lead0.append(json.loads(Testing_Hbs[ds]['cD5'][i]))\n",
    "        cD4_lead0.append(json.loads(Testing_Hbs[ds]['cD4'][i]))\n",
    "        cD3_lead0.append(json.loads(Testing_Hbs[ds]['cD3'][i]))\n",
    "        cD2_lead0.append(json.loads(Testing_Hbs[ds]['cD2'][i]))\n",
    "        cD1_lead0.append(json.loads(Testing_Hbs[ds]['cD1'][i]))\n",
    "        \n",
    "    Testing_Hbs[ds]['beat'] = new_beat_0\n",
    "    Testing_Hbs[ds]['cA7'] = cA7_lead0\n",
    "    Testing_Hbs[ds]['cD7'] = cD7_lead0                      \n",
    "    Testing_Hbs[ds]['cD6'] = cD6_lead0\n",
    "    Testing_Hbs[ds]['cD5'] = cD5_lead0                      \n",
    "    Testing_Hbs[ds]['cD4'] = cD4_lead0 \n",
    "    Testing_Hbs[ds]['cD3'] = cD3_lead0                      \n",
    "    Testing_Hbs[ds]['cD2'] = cD2_lead0 \n",
    "    Testing_Hbs[ds]['cD1'] = cD1_lead0       "
   ]
  },
  {
   "cell_type": "markdown",
   "metadata": {},
   "source": [
    "#### Feature vector construction"
   ]
  },
  {
   "cell_type": "code",
   "execution_count": 9,
   "metadata": {},
   "outputs": [],
   "source": [
    "firLevFeatures = ['preRR', 'postRR']\n",
    "secLevFeatures = ['postRR', 'preRR', 'skewness', 'kurtosis', 'cD7', 'cD6', 'cD5', 'cD4']\n",
    "\n",
    "lev1_ev_data = {}     # This is a dict, where each ds in DS1 acts as a key\n",
    "lev1_ev_label = {}\n",
    "\n",
    "lev2_ev_data = []   # The second level Testing data contains all the heartbeats in DS1\n",
    "lev2_ev_label = []\n",
    "lev2_ev_dsIndicatior = []\n",
    "\n",
    "\n",
    "for ds in DS2:\n",
    "    counter = -1\n",
    "    dsLast = len(Testing_Hbs[ds]['annIdx']) - 1\n",
    "    dsData = []\n",
    "    dsLabel = []\n",
    "    \n",
    "    for i in range(1, dsLast):\n",
    "        \n",
    "        preRR = Testing_Hbs[ds]['preRR'][i]\n",
    "        postRR = Testing_Hbs[ds]['postRR'][i]\n",
    "        \n",
    "        if preRR < 54 or preRR > 720:\n",
    "            continue\n",
    "        if postRR < 54 or postRR > 720:\n",
    "            continue\n",
    "        \n",
    "        \n",
    "        \n",
    "        if Testing_Hbs[ds]['ann'][i] in N:\n",
    "            dsLabel.append('N')\n",
    "            lev2_ev_label.append('N')\n",
    "        elif Testing_Hbs[ds]['ann'][i] in SVEB:\n",
    "            dsLabel.append('S')\n",
    "            lev2_ev_label.append('S')\n",
    "        elif Testing_Hbs[ds]['ann'][i] in VEB:\n",
    "            dsLabel.append('V')\n",
    "            lev2_ev_label.append('V')\n",
    "        elif Testing_Hbs[ds]['ann'][i] in F:\n",
    "            dsLabel.append('F')\n",
    "            lev2_ev_label.append('F')\n",
    "        elif Testing_Hbs[ds]['ann'][i] in Q:\n",
    "            dsLabel.append('Q')\n",
    "            lev2_ev_label.append('Q')\n",
    "        else:\n",
    "            continue\n",
    "            \n",
    "            \n",
    "        hb1 = []\n",
    "        hb1.append(preRR)\n",
    "        hb1.append(postRR)\n",
    "        dsData.append(np.array(hb1))\n",
    "        counter += 1\n",
    "        \n",
    "        hb2 = []\n",
    "        for f in secLevFeatures:\n",
    "            if type(Testing_Hbs[ds][f][i]) == list:\n",
    "                hb2.extend(Testing_Hbs[ds][f][i])\n",
    "            else:\n",
    "                hb2.append(Testing_Hbs[ds][f][i])\n",
    "        lev2_ev_data.append(np.array(hb2))\n",
    "        lev2_ev_dsIndicatior.append((ds, counter))\n",
    "        \n",
    "            \n",
    "    lev1_ev_data[ds] = np.array(dsData)\n",
    "    lev1_ev_label[ds] = np.array(dsLabel)"
   ]
  },
  {
   "cell_type": "markdown",
   "metadata": {},
   "source": [
    "# INCART Preparation ------ Generalizing Set"
   ]
  },
  {
   "cell_type": "code",
   "execution_count": 10,
   "metadata": {},
   "outputs": [],
   "source": [
    "INCART = []\n",
    "for i in range(1, 76):    #for the whole INCART database, the number is ranging from 1 to 76\n",
    "    if i < 10:\n",
    "        INCART.append('I0' + str(i))\n",
    "    else:\n",
    "        INCART.append('I' + str(i))"
   ]
  },
  {
   "cell_type": "markdown",
   "metadata": {},
   "source": [
    "#### Data Loading from Files"
   ]
  },
  {
   "cell_type": "code",
   "execution_count": 11,
   "metadata": {},
   "outputs": [],
   "source": [
    "Generalizing_Hbs = {}\n",
    "\n",
    "for ds in INCART:\n",
    "    Generalizing_Hbs[ds] = pd.read_csv('~/Data/Extracted Features/PLOS_ONE/INCART/' + ds + '_lead1.csv')\n",
    "    \n",
    "    new_beat_0 = []\n",
    "    \n",
    "    cA7_lead0 = []\n",
    "    cD7_lead0 = []\n",
    "    cD6_lead0 = []\n",
    "    cD5_lead0 = []\n",
    "    cD4_lead0 = []\n",
    "    cD3_lead0 = []\n",
    "    cD2_lead0 = []\n",
    "    cD1_lead0 = []\n",
    "    \n",
    "    for i in range(len(Generalizing_Hbs[ds]['beat'])):\n",
    "        new_beat_0.append(pd.Series(json.loads(Generalizing_Hbs[ds]['beatValues'][i]), index=json.loads(Generalizing_Hbs[ds]['beatIndex'][i])))\n",
    "        \n",
    "        cA7_lead0.append(json.loads(Generalizing_Hbs[ds]['cA7'][i]))\n",
    "        cD7_lead0.append(json.loads(Generalizing_Hbs[ds]['cD7'][i]))\n",
    "        cD6_lead0.append(json.loads(Generalizing_Hbs[ds]['cD6'][i]))\n",
    "        cD5_lead0.append(json.loads(Generalizing_Hbs[ds]['cD5'][i]))\n",
    "        cD4_lead0.append(json.loads(Generalizing_Hbs[ds]['cD4'][i]))\n",
    "        cD3_lead0.append(json.loads(Generalizing_Hbs[ds]['cD3'][i]))\n",
    "        cD2_lead0.append(json.loads(Generalizing_Hbs[ds]['cD2'][i]))\n",
    "        cD1_lead0.append(json.loads(Generalizing_Hbs[ds]['cD1'][i]))\n",
    "        \n",
    "    Generalizing_Hbs[ds]['beat'] = new_beat_0\n",
    "    Generalizing_Hbs[ds]['cA7'] = cA7_lead0\n",
    "    Generalizing_Hbs[ds]['cD7'] = cD7_lead0                      \n",
    "    Generalizing_Hbs[ds]['cD6'] = cD6_lead0\n",
    "    Generalizing_Hbs[ds]['cD5'] = cD5_lead0                      \n",
    "    Generalizing_Hbs[ds]['cD4'] = cD4_lead0 \n",
    "    Generalizing_Hbs[ds]['cD3'] = cD3_lead0                      \n",
    "    Generalizing_Hbs[ds]['cD2'] = cD2_lead0 \n",
    "    Generalizing_Hbs[ds]['cD1'] = cD1_lead0       "
   ]
  },
  {
   "cell_type": "markdown",
   "metadata": {},
   "source": [
    "#### Feature vector construction"
   ]
  },
  {
   "cell_type": "code",
   "execution_count": 12,
   "metadata": {},
   "outputs": [],
   "source": [
    "firLevFeatures = ['preRR', 'postRR']\n",
    "secLevFeatures = ['postRR', 'preRR', 'skewness', 'kurtosis', 'cD7', 'cD6', 'cD5', 'cD4']\n",
    "\n",
    "lev1_ge_data = {}     # This is a dict, where each ds in DS1 acts as a key\n",
    "lev1_ge_label = {}\n",
    "\n",
    "lev2_ge_data = []   # The second level Generalizing data contains all the heartbeats in DS1\n",
    "lev2_ge_label = []\n",
    "lev2_ge_dsIndicatior = []\n",
    "\n",
    "\n",
    "for ds in INCART:\n",
    "    counter = -1\n",
    "    dsLast = len(Generalizing_Hbs[ds]['annIdx']) - 1\n",
    "    dsData = []\n",
    "    dsLabel = []\n",
    "    \n",
    "    for i in range(1, dsLast):\n",
    "        \n",
    "        preRR = Generalizing_Hbs[ds]['preRR'][i]\n",
    "        postRR = Generalizing_Hbs[ds]['postRR'][i]\n",
    "        \n",
    "        if preRR < 54 or preRR > 720:\n",
    "            continue\n",
    "        if postRR < 54 or postRR > 720:\n",
    "            continue\n",
    "        \n",
    "        \n",
    "        if Generalizing_Hbs[ds]['ann'][i] in N:\n",
    "            dsLabel.append('N')\n",
    "            lev2_ge_label.append('N')\n",
    "        elif Generalizing_Hbs[ds]['ann'][i] in SVEB:\n",
    "            dsLabel.append('S')\n",
    "            lev2_ge_label.append('S')\n",
    "        elif Generalizing_Hbs[ds]['ann'][i] in VEB:\n",
    "            dsLabel.append('V')\n",
    "            lev2_ge_label.append('V')\n",
    "        elif Generalizing_Hbs[ds]['ann'][i] in F:\n",
    "            dsLabel.append('F')\n",
    "            lev2_ge_label.append('F')\n",
    "        elif Generalizing_Hbs[ds]['ann'][i] in Q:\n",
    "            dsLabel.append('Q')\n",
    "            lev2_ge_label.append('Q')\n",
    "        else:\n",
    "            continue\n",
    "            \n",
    "        \n",
    "        hb1 = []\n",
    "        hb1.append(preRR)\n",
    "        hb1.append(postRR)\n",
    "        dsData.append(np.array(hb1))\n",
    "        counter += 1\n",
    "        \n",
    "        hb2 = []\n",
    "        for f in secLevFeatures:\n",
    "            if type(Generalizing_Hbs[ds][f][i]) == list:\n",
    "                hb2.extend(Generalizing_Hbs[ds][f][i])\n",
    "            else:\n",
    "                hb2.append(Generalizing_Hbs[ds][f][i])\n",
    "        lev2_ge_data.append(np.array(hb2))\n",
    "        lev2_ge_dsIndicatior.append((ds, counter))\n",
    "            \n",
    "    lev1_ge_data[ds] = np.array(dsData)\n",
    "    lev1_ge_label[ds] = np.array(dsLabel)"
   ]
  },
  {
   "cell_type": "markdown",
   "metadata": {},
   "source": [
    "# Second level data feature normalization"
   ]
  },
  {
   "cell_type": "code",
   "execution_count": 13,
   "metadata": {},
   "outputs": [],
   "source": [
    "lev2_tr_data = np.array(lev2_tr_data)\n",
    "lev2_ev_data = np.array(lev2_ev_data)\n",
    "lev2_ge_data = np.array(lev2_ge_data)\n",
    "\n",
    "scaler = StandardScaler()\n",
    "scaler.fit(lev2_tr_data)\n",
    "\n",
    "# training data normalization\n",
    "lev2_tr_scaledData = scaler.transform(lev2_tr_data)\n",
    "\n",
    "\n",
    "# testing data normalization\n",
    "lev2_ev_scaledData = scaler.transform(lev2_ev_data)\n",
    "\n",
    "\n",
    "# generalizing data normalization\n",
    "lev2_ge_scaledData = scaler.transform(lev2_ge_data)"
   ]
  },
  {
   "cell_type": "markdown",
   "metadata": {},
   "source": [
    "# Feature accessment & statistics support"
   ]
  },
  {
   "cell_type": "markdown",
   "metadata": {},
   "source": [
    "#### postRR"
   ]
  },
  {
   "cell_type": "code",
   "execution_count": 14,
   "metadata": {},
   "outputs": [
    {
     "name": "stdout",
     "output_type": "stream",
     "text": [
      "N postRR mean:  0.05154320490969408\n",
      "N postRR std:  0.9136870696360526\n",
      "\n",
      "S postRR mean:  -0.2998360251049044\n",
      "S postRR std:  1.623689878044842\n",
      "\n",
      "V postRR mean:  0.5915792094423545\n",
      "V postRR std:  1.588575242783438\n",
      "\n",
      "P-Values\n",
      "N-S 0.007961291134206556\n",
      "N-V 3.781113791731437e-05\n",
      "S-V 5.231626046382499e-08\n"
     ]
    },
    {
     "data": {
      "image/png": "[encoded data removed]",
      "text/plain": [
       "<Figure size 864x576 with 1 Axes>"
      ]
     },
     "metadata": {},
     "output_type": "display_data"
    }
   ],
   "source": [
    "featureId = 0\n",
    "\n",
    "N_Type = []\n",
    "S_Type = []\n",
    "V_Type = []\n",
    "\n",
    "\n",
    "for idx, label in enumerate(lev2_tr_label):\n",
    "    if label in N:\n",
    "        N_Type.append(lev2_tr_scaledData[idx][featureId])\n",
    "    elif label in SVEB:\n",
    "        S_Type.append(lev2_tr_scaledData[idx][featureId])\n",
    "    elif label in VEB:\n",
    "        V_Type.append(lev2_tr_scaledData[idx][featureId])\n",
    "    else:\n",
    "        continue\n",
    "        \n",
    "Ploter = pd.DataFrame({\n",
    "    'N': random.sample(N_Type, 200),\n",
    "    'S': random.sample(S_Type, 200),\n",
    "    'V': random.sample(V_Type, 200)\n",
    "})\n",
    "\n",
    "Ploter.boxplot(figsize=(12,8)) \n",
    "plt.ylabel(\"postRR\")\n",
    "plt.xlabel(\"Heartbeat Types\")\n",
    "\n",
    "print('N postRR mean: ', Ploter['N'].mean())\n",
    "print('N postRR std: ', Ploter['N'].std())\n",
    "print()\n",
    "print('S postRR mean: ', Ploter['S'].mean())\n",
    "print('S postRR std: ', Ploter['S'].std())\n",
    "print()\n",
    "print('V postRR mean: ', Ploter['V'].mean())\n",
    "print('V postRR std: ', Ploter['V'].std())\n",
    "print()\n",
    "\n",
    "print('P-Values')\n",
    "_, p = ttest_ind(Ploter['N'], Ploter['S'])\n",
    "print('N-S', p)\n",
    "_, p = ttest_ind(Ploter['N'], Ploter['V'])\n",
    "print('N-V', p)\n",
    "_, p = ttest_ind(Ploter['S'], Ploter['V'])\n",
    "print('S-V', p)"
   ]
  },
  {
   "cell_type": "markdown",
   "metadata": {},
   "source": [
    "#### preRR"
   ]
  },
  {
   "cell_type": "code",
   "execution_count": 15,
   "metadata": {},
   "outputs": [
    {
     "name": "stdout",
     "output_type": "stream",
     "text": [
      "N preRR mean:  0.12906988441501846\n",
      "N preRR std:  0.9043531715122931\n",
      "\n",
      "S preRR mean:  -1.3589426976369725\n",
      "S preRR std:  0.6398990436034823\n",
      "\n",
      "V preRR mean:  -1.0671338973735554\n",
      "V preRR std:  0.7846564277450689\n",
      "\n",
      "P-Values\n",
      "N-S 9.811917117962828e-58\n",
      "N-V 5.0590471414953305e-37\n",
      "S-V 5.536773894271791e-05\n"
     ]
    },
    {
     "data": {
      "image/png": "[encoded data removed]",
      "text/plain": [
       "<Figure size 864x576 with 1 Axes>"
      ]
     },
     "metadata": {},
     "output_type": "display_data"
    }
   ],
   "source": [
    "featureId = 1\n",
    "\n",
    "N_Type = []\n",
    "S_Type = []\n",
    "V_Type = []\n",
    "\n",
    "\n",
    "for idx, label in enumerate(lev2_tr_label):\n",
    "    if label in N:\n",
    "        N_Type.append(lev2_tr_scaledData[idx][featureId])\n",
    "    elif label in SVEB:\n",
    "        S_Type.append(lev2_tr_scaledData[idx][featureId])\n",
    "    elif label in VEB:\n",
    "        V_Type.append(lev2_tr_scaledData[idx][featureId])\n",
    "    else:\n",
    "        continue\n",
    "        \n",
    "Ploter = pd.DataFrame({\n",
    "    'N': random.sample(N_Type, 200),\n",
    "    'S': random.sample(S_Type, 200),\n",
    "    'V': random.sample(V_Type, 200)\n",
    "})\n",
    "\n",
    "Ploter.boxplot(figsize=(12,8)) \n",
    "plt.ylabel(\"preRR\")\n",
    "plt.xlabel(\"Heartbeat Types\")\n",
    "\n",
    "print('N preRR mean: ', Ploter['N'].mean())\n",
    "print('N preRR std: ', Ploter['N'].std())\n",
    "print()\n",
    "print('S preRR mean: ', Ploter['S'].mean())\n",
    "print('S preRR std: ', Ploter['S'].std())\n",
    "print()\n",
    "print('V preRR mean: ', Ploter['V'].mean())\n",
    "print('V preRR std: ', Ploter['V'].std())\n",
    "print()\n",
    "\n",
    "print('P-Values')\n",
    "_, p = ttest_ind(Ploter['N'], Ploter['S'])\n",
    "print('N-S', p)\n",
    "_, p = ttest_ind(Ploter['N'], Ploter['V'])\n",
    "print('N-V', p)\n",
    "_, p = ttest_ind(Ploter['S'], Ploter['V'])\n",
    "print('S-V', p)"
   ]
  },
  {
   "cell_type": "markdown",
   "metadata": {},
   "source": [
    "#### skewness"
   ]
  },
  {
   "cell_type": "code",
   "execution_count": 16,
   "metadata": {},
   "outputs": [
    {
     "name": "stdout",
     "output_type": "stream",
     "text": [
      "N skewness mean:  0.09209681059090383\n",
      "N skewness std:  0.9276606095650106\n",
      "\n",
      "S skewness mean:  -0.40578156373139207\n",
      "S skewness std:  1.003416531997434\n",
      "\n",
      "V skewness mean:  -0.8560321676003179\n",
      "V skewness std:  0.717505657675478\n",
      "\n",
      "P-Values\n",
      "N-S 4.0540643444100687e-07\n",
      "N-V 2.2727312946832697e-26\n",
      "S-V 3.8679569546887376e-07\n"
     ]
    },
    {
     "data": {
      "image/png": "[encoded data removed]",
      "text/plain": [
       "<Figure size 864x576 with 1 Axes>"
      ]
     },
     "metadata": {},
     "output_type": "display_data"
    }
   ],
   "source": [
    "featureId = 2\n",
    "\n",
    "N_Type = []\n",
    "S_Type = []\n",
    "V_Type = []\n",
    "\n",
    "\n",
    "for idx, label in enumerate(lev2_tr_label):\n",
    "    if label in N:\n",
    "        N_Type.append(lev2_tr_scaledData[idx][featureId])\n",
    "    elif label in SVEB:\n",
    "        S_Type.append(lev2_tr_scaledData[idx][featureId])\n",
    "    elif label in VEB:\n",
    "        V_Type.append(lev2_tr_scaledData[idx][featureId])\n",
    "    else:\n",
    "        continue\n",
    "        \n",
    "Ploter = pd.DataFrame({\n",
    "    'N': random.sample(N_Type, 200),\n",
    "    'S': random.sample(S_Type, 200),\n",
    "    'V': random.sample(V_Type, 200)\n",
    "})\n",
    "\n",
    "Ploter.boxplot(figsize=(12,8)) \n",
    "plt.ylabel(\"skewness\")\n",
    "plt.xlabel(\"Heartbeat Types\")\n",
    "\n",
    "print('N skewness mean: ', Ploter['N'].mean())\n",
    "print('N skewness std: ', Ploter['N'].std())\n",
    "print()\n",
    "print('S skewness mean: ', Ploter['S'].mean())\n",
    "print('S skewness std: ', Ploter['S'].std())\n",
    "print()\n",
    "print('V skewness mean: ', Ploter['V'].mean())\n",
    "print('V skewness std: ', Ploter['V'].std())\n",
    "print()\n",
    "\n",
    "print('P-Values')\n",
    "_, p = ttest_ind(Ploter['N'], Ploter['S'])\n",
    "print('N-S', p)\n",
    "_, p = ttest_ind(Ploter['N'], Ploter['V'])\n",
    "print('N-V', p)\n",
    "_, p = ttest_ind(Ploter['S'], Ploter['V'])\n",
    "print('S-V', p)"
   ]
  },
  {
   "cell_type": "markdown",
   "metadata": {},
   "source": [
    "#### kurtosis"
   ]
  },
  {
   "cell_type": "code",
   "execution_count": 17,
   "metadata": {},
   "outputs": [
    {
     "name": "stdout",
     "output_type": "stream",
     "text": [
      "N kurtosis mean:  0.10867194719797758\n",
      "N kurtosis std:  0.9785114952876433\n",
      "\n",
      "S kurtosis mean:  -0.4112829298385286\n",
      "S kurtosis std:  0.8540102045816786\n",
      "\n",
      "V kurtosis mean:  -1.3339816192873653\n",
      "V kurtosis std:  0.3214264003768094\n",
      "\n",
      "P-Values\n",
      "N-S 2.8738603974005872e-08\n",
      "N-V 2.8754234831588887e-61\n",
      "S-V 9.99761727979165e-38\n"
     ]
    },
    {
     "data": {
      "image/png": "[encoded data removed]",
      "text/plain": [
       "<Figure size 864x576 with 1 Axes>"
      ]
     },
     "metadata": {},
     "output_type": "display_data"
    }
   ],
   "source": [
    "featureId = 3\n",
    "\n",
    "N_Type = []\n",
    "S_Type = []\n",
    "V_Type = []\n",
    "\n",
    "\n",
    "for idx, label in enumerate(lev2_tr_label):\n",
    "    if label in N:\n",
    "        N_Type.append(lev2_tr_scaledData[idx][featureId])\n",
    "    elif label in SVEB:\n",
    "        S_Type.append(lev2_tr_scaledData[idx][featureId])\n",
    "    elif label in VEB:\n",
    "        V_Type.append(lev2_tr_scaledData[idx][featureId])\n",
    "    else:\n",
    "        continue\n",
    "        \n",
    "Ploter = pd.DataFrame({\n",
    "    'N': random.sample(N_Type, 200),\n",
    "    'S': random.sample(S_Type, 200),\n",
    "    'V': random.sample(V_Type, 200)\n",
    "})\n",
    "\n",
    "Ploter.boxplot(figsize=(12,8)) \n",
    "plt.ylabel(\"kurtosis\")\n",
    "plt.xlabel(\"Heartbeat Types\")\n",
    "\n",
    "print('N kurtosis mean: ', Ploter['N'].mean())\n",
    "print('N kurtosis std: ', Ploter['N'].std())\n",
    "print()\n",
    "print('S kurtosis mean: ', Ploter['S'].mean())\n",
    "print('S kurtosis std: ', Ploter['S'].std())\n",
    "print()\n",
    "print('V kurtosis mean: ', Ploter['V'].mean())\n",
    "print('V kurtosis std: ', Ploter['V'].std())\n",
    "print()\n",
    "\n",
    "print('P-Values')\n",
    "_, p = ttest_ind(Ploter['N'], Ploter['S'])\n",
    "print('N-S', p)\n",
    "_, p = ttest_ind(Ploter['N'], Ploter['V'])\n",
    "print('N-V', p)\n",
    "_, p = ttest_ind(Ploter['S'], Ploter['V'])\n",
    "print('S-V', p)"
   ]
  },
  {
   "cell_type": "markdown",
   "metadata": {},
   "source": [
    "#### Wavelet coefficients"
   ]
  },
  {
   "cell_type": "markdown",
   "metadata": {},
   "source": [
    "cD7: 4-5\n",
    "cD6: 6-9\n",
    "cD5: 10-17\n",
    "cD4: 18-32"
   ]
  },
  {
   "cell_type": "code",
   "execution_count": 18,
   "metadata": {},
   "outputs": [
    {
     "name": "stdout",
     "output_type": "stream",
     "text": [
      "cD7_0\n",
      "N wf mean:  0.06755453011399093\n",
      "N wf std:  0.7580911127355927\n",
      "\n",
      "S wf mean:  0.6418569594717011\n",
      "S wf std:  0.8353726271291003\n",
      "\n",
      "V wf mean:  -0.37904917945312816\n",
      "V wf std:  2.5025796569307714\n",
      "\n",
      "P-Values\n",
      "N-S 3.0324230305423026e-12\n",
      "N-V 0.016168588260362812\n",
      "S-V 7.872000287993623e-08\n",
      "\n",
      "================================================================\n",
      "\n",
      "cD7_1\n",
      "N wf mean:  0.11394507649012293\n",
      "N wf std:  0.7887286473167613\n",
      "\n",
      "S wf mean:  0.08625049458085854\n",
      "S wf std:  0.9500128676173344\n",
      "\n",
      "V wf mean:  -0.19028595898610967\n",
      "V wf std:  2.2062137517761737\n",
      "\n",
      "P-Values\n",
      "N-S 0.7512602800496184\n",
      "N-V 0.0670529838450435\n",
      "S-V 0.10429336658976246\n",
      "\n",
      "================================================================\n",
      "\n"
     ]
    },
    {
     "data": {
      "image/png": "[encoded data removed]",
      "text/plain": [
       "<Figure size 864x576 with 1 Axes>"
      ]
     },
     "metadata": {},
     "output_type": "display_data"
    },
    {
     "data": {
      "image/png": "[encoded data removed]",
      "text/plain": [
       "<Figure size 864x576 with 1 Axes>"
      ]
     },
     "metadata": {},
     "output_type": "display_data"
    }
   ],
   "source": [
    "# change the two parameters below to indicate that which level's coefficients needs to be presented.\n",
    "level = 'cD7'\n",
    "locs = list(range(4,6))\n",
    "\n",
    "for featureId in locs:\n",
    "    N_Type = []\n",
    "    S_Type = []\n",
    "    V_Type = []\n",
    "\n",
    "    for idx, label in enumerate(lev2_tr_label):\n",
    "        if label in N:\n",
    "            N_Type.append(lev2_tr_scaledData[idx][featureId])\n",
    "        elif label in SVEB:\n",
    "            S_Type.append(lev2_tr_scaledData[idx][featureId])\n",
    "        elif label in VEB:\n",
    "            V_Type.append(lev2_tr_scaledData[idx][featureId])\n",
    "        else:\n",
    "            continue\n",
    "\n",
    "    Ploter = pd.DataFrame({\n",
    "        'N': random.sample(N_Type, 200),\n",
    "        'S': random.sample(S_Type, 200),\n",
    "        'V': random.sample(V_Type, 200)\n",
    "    })\n",
    "    \n",
    "    plt.figure(figsize=(12,8))\n",
    "\n",
    "    Ploter.boxplot(figsize=(12,8)) \n",
    "    plt.ylabel(\"wavelet coefficient \" + level + \"_\" + str(featureId-locs[0]))\n",
    "    plt.xlabel(\"Heartbeat Types\")\n",
    "\n",
    "    print(level + '_' + str(featureId-locs[0]))\n",
    "\n",
    "    print('N wf mean: ', Ploter['N'].mean())\n",
    "    print('N wf std: ', Ploter['N'].std())\n",
    "    print()\n",
    "    print('S wf mean: ', Ploter['S'].mean())\n",
    "    print('S wf std: ', Ploter['S'].std())\n",
    "    print()\n",
    "    print('V wf mean: ', Ploter['V'].mean())\n",
    "    print('V wf std: ', Ploter['V'].std())\n",
    "    \n",
    "    print()\n",
    "    print('P-Values')\n",
    "    _, p1 = ttest_ind(Ploter['N'], Ploter['S'])\n",
    "    print('N-S', p1)\n",
    "    _, p2 = ttest_ind(Ploter['N'], Ploter['V'])\n",
    "    print('N-V', p2)\n",
    "    _, p3 = ttest_ind(Ploter['S'], Ploter['V'])\n",
    "    print('S-V', p3)\n",
    "    print()\n",
    "    \n",
    "    print('================================================================')\n",
    "    print()"
   ]
  },
  {
   "cell_type": "markdown",
   "metadata": {},
   "source": [
    "# Training --- DS1"
   ]
  },
  {
   "cell_type": "markdown",
   "metadata": {},
   "source": [
    "### Treshold training"
   ]
  },
  {
   "cell_type": "code",
   "execution_count": 19,
   "metadata": {},
   "outputs": [],
   "source": [
    "trsValues = {}\n",
    "TR_postRR = {}\n",
    "TR_preRR = {}\n",
    "    \n",
    "for ds in DS1:\n",
    "    TR_postRR[ds] = []\n",
    "    TR_preRR[ds] = []\n",
    "\n",
    "    TR_min = min(np.min(lev1_tr_data[ds][:, 0]), np.min(lev1_tr_data[ds][:, 1]))\n",
    "    TR_max = max(np.max(lev1_tr_data[ds][:, 0]), np.max(lev1_tr_data[ds][:, 1]))\n",
    "\n",
    "    for beat in lev1_tr_data[ds]:\n",
    "        TR_postRR[ds].append((beat[1]-TR_min)/(TR_max-TR_min))\n",
    "        TR_preRR[ds].append((beat[0]-TR_min)/(TR_max-TR_min))\n",
    "\n",
    "    TR_N = []\n",
    "    TR_S = []\n",
    "    TR_Real = []\n",
    "\n",
    "    for idx, label in enumerate(lev1_tr_label[ds]):\n",
    "        if label in N:\n",
    "            TR_N.append([TR_preRR[ds][idx], TR_postRR[ds][idx]])\n",
    "            TR_Real.append('N')\n",
    "        if label in SVEB:\n",
    "            TR_S.append([TR_preRR[ds][idx], TR_postRR[ds][idx]])\n",
    "            TR_Real.append('S')\n",
    "\n",
    "    TR_N = np.array(TR_N)\n",
    "    TR_S = np.array(TR_S)\n",
    "\n",
    "\n",
    "    TR_MEDIAN_PRERR = np.median(TR_N[:, 0])\n",
    "\n",
    "    TR_T = 0\n",
    "    TR_Step = 0.05\n",
    "    TR_Best = 0\n",
    "    TR_Best_T = 0\n",
    "\n",
    "    while TR_T > -1:\n",
    "        TR_Predict = []\n",
    "        for idx, label in enumerate(lev1_tr_label[ds]):\n",
    "            if label not in N and label not in SVEB:\n",
    "                continue\n",
    "            if (TR_preRR[ds][idx] - TR_postRR[ds][idx])/TR_MEDIAN_PRERR < TR_T:\n",
    "                TR_Predict.append('S')\n",
    "            elif (TR_preRR[ds][idx] - TR_MEDIAN_PRERR)/TR_MEDIAN_PRERR < TR_T:\n",
    "                TR_Predict.append('S')\n",
    "            else:\n",
    "                TR_Predict.append('N')\n",
    "        N_Result = list(confusion_matrix(TR_Real, TR_Predict, labels=['N', 'S'])[0])\n",
    "        S_Result = list(confusion_matrix(TR_Real, TR_Predict, labels=['N', 'S'])[1])\n",
    "        N_Sen = N_Result[0] / (N_Result[0] + N_Result[1])\n",
    "        S_Sen = S_Result[1] / (S_Result[0] + S_Result[1])\n",
    "        if N_Sen + S_Sen > TR_Best:\n",
    "            TR_Best = N_Sen + S_Sen\n",
    "            TR_Best_T = TR_T\n",
    "        TR_T -= TR_Step\n",
    "    trsValues[ds] = TR_Best_T"
   ]
  },
  {
   "cell_type": "code",
   "execution_count": 20,
   "metadata": {},
   "outputs": [
    {
     "data": {
      "text/plain": [
       "{'101': -0.49999999999999994,\n",
       " '106': 0,\n",
       " '108': -0.8500000000000002,\n",
       " '109': 0,\n",
       " '112': -0.35,\n",
       " '114': -0.3,\n",
       " '115': 0,\n",
       " '116': -0.49999999999999994,\n",
       " '118': -0.44999999999999996,\n",
       " '119': 0,\n",
       " '122': 0,\n",
       " '124': -0.2,\n",
       " '201': -0.5499999999999999,\n",
       " '203': -0.5499999999999999,\n",
       " '205': -0.2,\n",
       " '207': -0.49999999999999994,\n",
       " '208': -0.15000000000000002,\n",
       " '209': -0.39999999999999997,\n",
       " '215': -0.44999999999999996,\n",
       " '220': -0.2,\n",
       " '223': -0.3,\n",
       " '230': 0}"
      ]
     },
     "execution_count": 20,
     "metadata": {},
     "output_type": "execute_result"
    }
   ],
   "source": [
    "trsValues"
   ]
  },
  {
   "cell_type": "markdown",
   "metadata": {},
   "source": [
    "### Classifier training"
   ]
  },
  {
   "cell_type": "markdown",
   "metadata": {},
   "source": [
    "#### Classifier pool"
   ]
  },
  {
   "cell_type": "code",
   "execution_count": 21,
   "metadata": {},
   "outputs": [],
   "source": [
    "model_perceptron = CalibratedClassifierCV(Perceptron(max_iter=100))\n",
    "model_linear_svm = CalibratedClassifierCV(LinearSVC())\n",
    "model_svc = SVC(probability=True)\n",
    "model_bayes = GaussianNB()\n",
    "model_tree = DecisionTreeClassifier()\n",
    "model_knn = KNeighborsClassifier(n_neighbors=5)\n",
    "model_lr = LogisticRegression(random_state=1)"
   ]
  },
  {
   "cell_type": "markdown",
   "metadata": {},
   "source": [
    "#### NV data preparation"
   ]
  },
  {
   "cell_type": "code",
   "execution_count": 22,
   "metadata": {},
   "outputs": [],
   "source": [
    "NV_tr_data = []\n",
    "NV_tr_label = []\n",
    "\n",
    "\n",
    "for idx, label in enumerate(lev2_tr_label):\n",
    "    if label in SVEB:\n",
    "        continue\n",
    "    else:\n",
    "        NV_tr_data.append(lev2_tr_scaledData[idx][:-2])\n",
    "        NV_tr_label.append(label)"
   ]
  },
  {
   "cell_type": "markdown",
   "metadata": {},
   "source": [
    "#### NVDispatcher"
   ]
  },
  {
   "cell_type": "code",
   "execution_count": 23,
   "metadata": {},
   "outputs": [
    {
     "data": {
      "text/plain": [
       "VotingClassifier(estimators=[('ls', CalibratedClassifierCV(base_estimator=LinearSVC(C=1.0, class_weight=None, dual=True, fit_intercept=True,\n",
       "     intercept_scaling=1, loss='squared_hinge', max_iter=1000,\n",
       "     multi_class='ovr', penalty='l2', random_state=None, tol=0.0001,\n",
       "     verbose=0),\n",
       "            cv=3, method='s...verbose=0, warm_start=False),\n",
       "            cv=3, method='sigmoid')), ('ba', GaussianNB(priors=None))],\n",
       "         flatten_transform=None, n_jobs=1, voting='hard', weights=None)"
      ]
     },
     "execution_count": 23,
     "metadata": {},
     "output_type": "execute_result"
    }
   ],
   "source": [
    "NVDispatcher = VotingClassifier(estimators=[\n",
    "    ('ls', model_linear_svm), ('svc', model_svc), \n",
    "    ('tree', model_tree), ('knn', model_knn), ('lr', model_lr),('pt', model_perceptron), ('ba', model_bayes)\n",
    "], voting='hard')   \n",
    "\n",
    "\n",
    "NVDispatcher.fit(NV_tr_data, NV_tr_label)"
   ]
  },
  {
   "cell_type": "markdown",
   "metadata": {},
   "source": [
    "#### SV data preparation"
   ]
  },
  {
   "cell_type": "code",
   "execution_count": 24,
   "metadata": {},
   "outputs": [],
   "source": [
    "SV_data = []\n",
    "SV_label = []\n",
    "FQ_data = []\n",
    "FQ_label = []\n",
    "\n",
    "for idx, label in enumerate(lev2_tr_label):\n",
    "    if label in N:\n",
    "        continue\n",
    "    if label in F or label in Q:\n",
    "        FQ_data.append(lev2_tr_scaledData[idx][2:-2])   # the RR-intervals are not used as features\n",
    "        FQ_label.append(label)\n",
    "        continue\n",
    "    \n",
    "    SV_data.append(lev2_tr_scaledData[idx][2:-2])  # the RR-intervals are not used as features\n",
    "    SV_label.append(label)\n",
    "\n",
    "smote_enn = SMOTEENN(random_state=0)\n",
    "data_resampled, label_resampled = smote_enn.fit_sample(np.array(SV_data), np.array(SV_label))\n",
    "\n",
    "SV_tr_data = np.append(data_resampled, np.array(FQ_data), axis=0)\n",
    "SV_tr_label = np.append(label_resampled, np.array(FQ_label), axis=0)"
   ]
  },
  {
   "cell_type": "markdown",
   "metadata": {},
   "source": [
    "#### SVDispatcher"
   ]
  },
  {
   "cell_type": "code",
   "execution_count": 25,
   "metadata": {},
   "outputs": [
    {
     "data": {
      "text/plain": [
       "SVC(C=1.0, cache_size=200, class_weight=None, coef0=0.0,\n",
       "  decision_function_shape='ovr', degree=3, gamma='auto', kernel='rbf',\n",
       "  max_iter=-1, probability=True, random_state=None, shrinking=True,\n",
       "  tol=0.001, verbose=False)"
      ]
     },
     "execution_count": 25,
     "metadata": {},
     "output_type": "execute_result"
    }
   ],
   "source": [
    "SVDispatcher = SVC(probability=True)\n",
    "SVDispatcher.fit(SV_tr_data, SV_tr_label)"
   ]
  },
  {
   "cell_type": "markdown",
   "metadata": {},
   "source": [
    "# Testing --- DS2"
   ]
  },
  {
   "cell_type": "markdown",
   "metadata": {},
   "source": [
    "#### DS2Neighbors"
   ]
  },
  {
   "cell_type": "code",
   "execution_count": 26,
   "metadata": {},
   "outputs": [],
   "source": [
    "DS2Neighbors = {}\n",
    "TE_postRR = {}\n",
    "TE_preRR = {}\n",
    "\n",
    "for ds2 in DS2:\n",
    "    DS2Neighbors[ds2] = ['-1', 100, 0]\n",
    "    TE_postRR[ds2] = []\n",
    "    TE_preRR[ds2] = []\n",
    "\n",
    "    TE_min = min(np.min(lev1_ev_data[ds2][:, 0]), np.min(lev1_ev_data[ds2][:, 1]))\n",
    "    TE_max = max(np.max(lev1_ev_data[ds2][:, 0]), np.max(lev1_ev_data[ds2][:, 1]))\n",
    "\n",
    "    for beat in lev1_ev_data[ds2]:\n",
    "        TE_postRR[ds2].append((beat[1]-TE_min)/(TE_max-TE_min))\n",
    "        TE_preRR[ds2].append((beat[0]-TE_min)/(TE_max-TE_min))\n",
    "\n",
    "\n",
    "    for ds1 in DS1:\n",
    "        if emd_samples(TR_preRR[ds1], TE_preRR[ds2]) < DS2Neighbors[ds2][1]:\n",
    "            DS2Neighbors[ds2][0] = ds1\n",
    "            DS2Neighbors[ds2][1] = emd_samples(TR_preRR[ds1], TE_preRR[ds2])\n",
    "            if trsValues[ds1] == 0:\n",
    "                DS2Neighbors[ds2][2] = min(trsValues.values())\n",
    "            else:\n",
    "                DS2Neighbors[ds2][2] = trsValues[ds1]"
   ]
  },
  {
   "cell_type": "markdown",
   "metadata": {},
   "source": [
    "#### Lev1 classification"
   ]
  },
  {
   "cell_type": "code",
   "execution_count": 27,
   "metadata": {
    "code_folding": []
   },
   "outputs": [
    {
     "name": "stdout",
     "output_type": "stream",
     "text": [
      "[[40918  3151]\n",
      " [   74  1680]]\n"
     ]
    },
    {
     "data": {
      "text/plain": [
       "<Figure size 432x288 with 0 Axes>"
      ]
     },
     "metadata": {},
     "output_type": "display_data"
    }
   ],
   "source": [
    "TE_MEDIAN_PRERR = {}\n",
    "TE_Predict = []\n",
    "\n",
    "for ds in DS2:\n",
    "    df = pd.DataFrame({\n",
    "        'preRR': TE_preRR[ds],\n",
    "    })\n",
    "    \n",
    "    fig, stats = df.boxplot(return_type='both')\n",
    "    temp = fig.remove()  # remove the boxplot in the output\n",
    "    outliers = [flier.get_ydata() for flier in stats[\"fliers\"]]   # get outliers from the boxplot statistics\n",
    "    \n",
    "    if len(outliers[0]) / len(TE_preRR[ds]) > 0.1:\n",
    "        TE_MEDIAN_PRERR[ds] = np.mean([np.mean(outliers[0]), np.median(TE_preRR[ds])])\n",
    "    else:\n",
    "        TE_MEDIAN_PRERR[ds] = np.median(TE_preRR[ds])\n",
    "\n",
    "for idx, label in enumerate(lev2_ev_label):\n",
    "    ds = lev2_ev_dsIndicatior[idx][0]\n",
    "    ds_idx = lev2_ev_dsIndicatior[idx][1]\n",
    "         \n",
    "    if (TE_preRR[ds][ds_idx] - TE_postRR[ds][ds_idx]) / TE_MEDIAN_PRERR[ds] < DS2Neighbors[ds][2]:\n",
    "        TE_Predict.append('S')\n",
    "    elif (TE_preRR[ds][ds_idx] - TE_MEDIAN_PRERR[ds]) / TE_MEDIAN_PRERR[ds] < DS2Neighbors[ds][2]:\n",
    "        TE_Predict.append('S')\n",
    "    else:\n",
    "        TE_Predict.append('N')\n",
    "            \n",
    "cm = confusion_matrix(lev2_ev_label, TE_Predict, labels=['N', 'S'])\n",
    "\n",
    "print(cm)"
   ]
  },
  {
   "cell_type": "code",
   "execution_count": 28,
   "metadata": {},
   "outputs": [
    {
     "name": "stdout",
     "output_type": "stream",
     "text": [
      "[[40918  3151     0     0     0]\n",
      " [   74  1680     0     0     0]\n",
      " [  872  2347     0     0     0]\n",
      " [  383     5     0     0     0]\n",
      " [    5     2     0     0     0]]\n"
     ]
    }
   ],
   "source": [
    "cm = confusion_matrix(lev2_ev_label, TE_Predict, labels=['N', 'S', 'V', 'F', 'Q'])\n",
    "\n",
    "print(cm)"
   ]
  },
  {
   "cell_type": "markdown",
   "metadata": {},
   "source": [
    "#### Lev2 classification"
   ]
  },
  {
   "cell_type": "code",
   "execution_count": 29,
   "metadata": {
    "scrolled": true
   },
   "outputs": [
    {
     "name": "stdout",
     "output_type": "stream",
     "text": [
      "[[40735  2762   523    49     0]\n",
      " [   71  1593    87     3     0]\n",
      " [  124   151  2833   111     0]\n",
      " [  303     1    60    24     0]\n",
      " [    2     0     4     1     0]]\n"
     ]
    }
   ],
   "source": [
    "for idx, label in enumerate(TE_Predict):\n",
    "    if label in N:\n",
    "        TE_Predict[idx] = list(NVDispatcher.predict([lev2_ev_scaledData[idx][:-2]]))[0]\n",
    "                                                        \n",
    "    elif label in SVEB:\n",
    "        TE_Predict[idx] = list(SVDispatcher.predict([lev2_ev_scaledData[idx][2:-2]]))[0]\n",
    "    else:\n",
    "        continue\n",
    "        \n",
    "cm = confusion_matrix(lev2_ev_label, TE_Predict, labels=['N', 'S', 'V', 'F', 'Q'])\n",
    "print(cm)"
   ]
  },
  {
   "cell_type": "markdown",
   "metadata": {},
   "source": [
    "#### Result summary"
   ]
  },
  {
   "cell_type": "code",
   "execution_count": 30,
   "metadata": {},
   "outputs": [
    {
     "name": "stdout",
     "output_type": "stream",
     "text": [
      "DS2 & 44069 & 1754 & 3219 && 91.4 & 92.43 & 98.79 && 90.82 & 35.35 && 88.01 & 80.78 & \\\\\n",
      "\n",
      "ACC: 0.9139915447943848\n",
      "\n",
      "N Total: 44069\n",
      "S Total: 1754\n",
      "V Total: 3219\n",
      "\n",
      "N Sen: 0.924\n",
      "N +P: 0.988\n",
      "\n",
      "S Sen: 0.908\n",
      "S +P: 0.353\n",
      "\n",
      "V Sen: 0.88\n",
      "V +P: 0.808\n"
     ]
    }
   ],
   "source": [
    "cm = confusion_matrix(lev2_ev_label, TE_Predict, labels=['N', 'S', 'V','F','Q'])\n",
    "\n",
    "    \n",
    "print('DS2' + ' & ' \n",
    "      + str(sum(cm[0])) + ' & ' \n",
    "      + str(sum(cm[1])) + ' & ' \n",
    "      + str(sum(cm[2])) + ' && ' \n",
    "      + str(round(accuracy_score(lev2_ev_label, TE_Predict) * 100, 2)) + ' & ' \n",
    "      + str(round(cm[0][0]/sum(cm[0]) * 100, 2)) + ' & ' \n",
    "      + str(round(cm[0][0]/sum(cm[:, 0]) * 100, 2)) + ' && ' \n",
    "      + str(round(cm[1][1]/sum(cm[1]) * 100, 2) ) + ' & '\n",
    "      + str(round(cm[1][1]/sum(cm[:, 1]) * 100, 2)) + ' && '\n",
    "      + str(round(cm[2][2]/sum(cm[2]) * 100, 2)) + ' & '\n",
    "      + str(round(cm[2][2]/sum(cm[:, 2]) * 100, 2)) + ' & \\\\\\\\'\n",
    "     )\n",
    "\n",
    "print()\n",
    "\n",
    "print('ACC: ' + str(accuracy_score(lev2_ev_label, TE_Predict)))\n",
    "print()\n",
    "print('N Total: ' + str(sum(cm[0])))\n",
    "print('S Total: ' + str(sum(cm[1])))\n",
    "print('V Total: ' + str(sum(cm[2])))\n",
    "print()\n",
    "print('N Sen: ' + str(round(cm[0][0]/sum(cm[0]), 3)))\n",
    "print('N +P: ' + str(round(cm[0][0]/sum(cm[:, 0]), 3)))\n",
    "print()\n",
    "print('S Sen: ' + str(round(cm[1][1]/sum(cm[1]), 3)))\n",
    "print('S +P: ' + str(round(cm[1][1]/sum(cm[:, 1]), 3)))\n",
    "print()\n",
    "print('V Sen: ' + str(round(cm[2][2]/sum(cm[2]), 3)))\n",
    "print('V +P: ' + str(round(cm[2][2]/sum(cm[:, 2]), 3)))"
   ]
  },
  {
   "cell_type": "markdown",
   "metadata": {},
   "source": [
    "# Generalizing --- INCART"
   ]
  },
  {
   "cell_type": "markdown",
   "metadata": {},
   "source": [
    "#### INCARTNeighbors"
   ]
  },
  {
   "cell_type": "code",
   "execution_count": 31,
   "metadata": {},
   "outputs": [],
   "source": [
    "INCARTNeighbors = {}\n",
    "GE_postRR = {}\n",
    "GE_preRR = {}\n",
    "\n",
    "for incart in INCART:\n",
    "    INCARTNeighbors[incart] = ['-1', 100, 0]\n",
    "    GE_postRR[incart] = []\n",
    "    GE_preRR[incart] = []\n",
    "\n",
    "    GE_min = min(np.min(lev1_ge_data[incart][:, 0]), np.min(lev1_ge_data[incart][:, 1]))\n",
    "    GE_max = max(np.max(lev1_ge_data[incart][:, 0]), np.max(lev1_ge_data[incart][:, 1]))\n",
    "\n",
    "    for beat in lev1_ge_data[incart]:\n",
    "        GE_postRR[incart].append((beat[1]-GE_min)/(GE_max-GE_min))\n",
    "        GE_preRR[incart].append((beat[0]-GE_min)/(GE_max-GE_min))\n",
    "\n",
    "\n",
    "    for ds1 in DS1:\n",
    "        if emd_samples(TR_preRR[ds1], GE_preRR[incart]) < INCARTNeighbors[incart][1]:\n",
    "            INCARTNeighbors[incart][0] = ds1\n",
    "            INCARTNeighbors[incart][1] = emd_samples(TR_preRR[ds1], GE_preRR[incart])\n",
    "            if trsValues[ds1] == 0:\n",
    "                INCARTNeighbors[incart][2] = min(trsValues.values())\n",
    "            else:\n",
    "                INCARTNeighbors[incart][2] = trsValues[ds1]"
   ]
  },
  {
   "cell_type": "markdown",
   "metadata": {},
   "source": [
    "#### Lev1 classification"
   ]
  },
  {
   "cell_type": "code",
   "execution_count": 32,
   "metadata": {},
   "outputs": [
    {
     "name": "stdout",
     "output_type": "stream",
     "text": [
      "[[141861  11630]\n",
      " [   110   1848]]\n"
     ]
    },
    {
     "data": {
      "text/plain": [
       "<Figure size 432x288 with 0 Axes>"
      ]
     },
     "metadata": {},
     "output_type": "display_data"
    }
   ],
   "source": [
    "GE_MEDIAN_PRERR = {}\n",
    "GE_Predict = []\n",
    "\n",
    "for ds in INCART:\n",
    "    df = pd.DataFrame({\n",
    "        'preRR': GE_preRR[ds],\n",
    "    })\n",
    "    \n",
    "    fig, stats = df.boxplot(return_type='both')\n",
    "    temp = fig.remove()  # remove the boxplot in the output\n",
    "    outliers = [flier.get_ydata() for flier in stats[\"fliers\"]]   # get outliers from the boxplot statistics\n",
    "    \n",
    "    if len(outliers[0]) / len(GE_preRR[ds]) > 0.1:\n",
    "        GE_MEDIAN_PRERR[ds] = np.mean([np.mean(outliers[0]), np.median(GE_preRR[ds])])\n",
    "    else:\n",
    "        GE_MEDIAN_PRERR[ds] = np.median(GE_preRR[ds])\n",
    "        \n",
    "for idx, label in enumerate(lev2_ge_label):\n",
    "    ds = lev2_ge_dsIndicatior[idx][0]\n",
    "    ds_idx = lev2_ge_dsIndicatior[idx][1]\n",
    "        \n",
    "    if (GE_preRR[ds][ds_idx] - GE_postRR[ds][ds_idx]) / GE_MEDIAN_PRERR[ds] < INCARTNeighbors[ds][2]:\n",
    "        GE_Predict.append('S')\n",
    "    elif (GE_preRR[ds][ds_idx] - GE_MEDIAN_PRERR[ds]) / GE_MEDIAN_PRERR[ds] < INCARTNeighbors[ds][2]:\n",
    "        GE_Predict.append('S')\n",
    "    else:\n",
    "        GE_Predict.append('N')\n",
    "            \n",
    "cm = confusion_matrix(lev2_ge_label, GE_Predict, labels=['N', 'S'])\n",
    "\n",
    "print(cm)"
   ]
  },
  {
   "cell_type": "markdown",
   "metadata": {},
   "source": [
    "#### Lev2 classification"
   ]
  },
  {
   "cell_type": "code",
   "execution_count": 33,
   "metadata": {},
   "outputs": [
    {
     "name": "stdout",
     "output_type": "stream",
     "text": [
      "[[138620   6871   6284   1716      0]\n",
      " [   106   1554    204     94      0]\n",
      " [   695   1639  17383    276      0]\n",
      " [   108      4     53     54      0]\n",
      " [     3      0      3      0      0]]\n"
     ]
    }
   ],
   "source": [
    "for idx, label in enumerate(GE_Predict):\n",
    "    if label in N:\n",
    "        GE_Predict[idx] = list(NVDispatcher.predict([lev2_ge_scaledData[idx][:-2]]))[0]\n",
    "                                                        \n",
    "    elif label in SVEB:\n",
    "        GE_Predict[idx] = list(SVDispatcher.predict([lev2_ge_scaledData[idx][2:-2]]))[0]\n",
    "    else:\n",
    "        continue\n",
    "        \n",
    "cm = confusion_matrix(lev2_ge_label, GE_Predict, labels=['N', 'S', 'V', 'F', 'Q'])\n",
    "print(cm)"
   ]
  },
  {
   "cell_type": "markdown",
   "metadata": {},
   "source": [
    "#### Result summary"
   ]
  },
  {
   "cell_type": "code",
   "execution_count": 34,
   "metadata": {},
   "outputs": [
    {
     "name": "stdout",
     "output_type": "stream",
     "text": [
      "INCART & 153491 & 1958 & 19993 && 89.72 & 90.31 & 99.35 && 79.37 & 15.44 && 86.95 & 72.65 & \\\\\n",
      "\n",
      "ACC: 0.8972146162910507\n",
      "\n",
      "N Total: 153491\n",
      "S Total: 1958\n",
      "V Total: 19993\n",
      "\n",
      "N Sen: 0.903\n",
      "N +P: 0.993\n",
      "\n",
      "S Sen: 0.794\n",
      "S +P: 0.154\n",
      "\n",
      "V Sen: 0.869\n",
      "V +P: 0.727\n"
     ]
    }
   ],
   "source": [
    "cm = confusion_matrix(lev2_ge_label, GE_Predict, labels=['N', 'S', 'V','F','Q'])\n",
    "\n",
    "    \n",
    "print('INCART' + ' & ' \n",
    "      + str(sum(cm[0])) + ' & ' \n",
    "      + str(sum(cm[1])) + ' & ' \n",
    "      + str(sum(cm[2])) + ' && ' \n",
    "      + str(round(accuracy_score(lev2_ge_label, GE_Predict) * 100, 2)) + ' & ' \n",
    "      + str(round(cm[0][0]/sum(cm[0]) * 100, 2)) + ' & ' \n",
    "      + str(round(cm[0][0]/sum(cm[:, 0]) * 100, 2)) + ' && ' \n",
    "      + str(round(cm[1][1]/sum(cm[1]) * 100, 2) ) + ' & '\n",
    "      + str(round(cm[1][1]/sum(cm[:, 1]) * 100, 2)) + ' && '\n",
    "      + str(round(cm[2][2]/sum(cm[2]) * 100, 2)) + ' & '\n",
    "      + str(round(cm[2][2]/sum(cm[:, 2]) * 100, 2)) + ' & \\\\\\\\'\n",
    "     )\n",
    "\n",
    "print()\n",
    "\n",
    "print('ACC: ' + str(accuracy_score(lev2_ge_label, GE_Predict)))\n",
    "print()\n",
    "print('N Total: ' + str(sum(cm[0])))\n",
    "print('S Total: ' + str(sum(cm[1])))\n",
    "print('V Total: ' + str(sum(cm[2])))\n",
    "print()\n",
    "print('N Sen: ' + str(round(cm[0][0]/sum(cm[0]), 3)))\n",
    "print('N +P: ' + str(round(cm[0][0]/sum(cm[:, 0]), 3)))\n",
    "print()\n",
    "print('S Sen: ' + str(round(cm[1][1]/sum(cm[1]), 3)))\n",
    "print('S +P: ' + str(round(cm[1][1]/sum(cm[:, 1]), 3)))\n",
    "print()\n",
    "print('V Sen: ' + str(round(cm[2][2]/sum(cm[2]), 3)))\n",
    "print('V +P: ' + str(round(cm[2][2]/sum(cm[:, 2]), 3)))"
   ]
  }
 ],
 "metadata": {
  "kernelspec": {
   "display_name": "Python 3",
   "language": "python",
   "name": "python3"
  },
  "language_info": {
   "codemirror_mode": {
    "name": "ipython",
    "version": 3
   },
   "file_extension": ".py",
   "mimetype": "text/x-python",
   "name": "python",
   "nbconvert_exporter": "python",
   "pygments_lexer": "ipython3",
   "version": "3.5.2"
  }
 },
 "nbformat": 4,
 "nbformat_minor": 2
}
