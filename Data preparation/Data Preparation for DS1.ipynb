{
 "cells": [
  {
   "cell_type": "markdown",
   "metadata": {
    "collapsed": true
   },
   "source": [
    "# Import Necessary Package"
   ]
  },
  {
   "cell_type": "code",
   "execution_count": null,
   "metadata": {},
   "outputs": [],
   "source": [
    "import wfdb\n",
    "import numpy as np\n",
    "import matplotlib.pyplot as plt\n",
    "from scipy.signal import medfilt\n",
    "import pywt  \n",
    "import pandas as pd"
   ]
  },
  {
   "cell_type": "markdown",
   "metadata": {
    "collapsed": true
   },
   "source": [
    "# Load Training Data"
   ]
  },
  {
   "cell_type": "code",
   "execution_count": null,
   "metadata": {
    "scrolled": true
   },
   "outputs": [],
   "source": [
    "DS1 = ['101', '106', '108', '109', '112', '114', '115', '116', '118', '119', '122', '124', \n",
    "       '201', '203', '205', '207', '208', '209', '215', '220', '223', '230']\n",
    "\n",
    "trainingSet = {}\n",
    "\n",
    "for ds in DS1:\n",
    "    dataSetLoc = 'MIT-BIH Arrhythmia' + ds + '_mitdb' + ds + '/' + ds\n",
    "    #dataSetLoc = \"\"\n",
    "    record = wfdb.rdrecord(dataSetLoc)\n",
    "    lead0 = record.p_signal[:,0]\n",
    "    lead1 = record.p_signal[:,1]\n",
    "    annotation = wfdb.rdann(dataSetLoc, 'atr')\n",
    "    annIdx = annotation.sample\n",
    "    annType = annotation.symbol\n",
    "    trainingSet[ds] = {'lead0': lead0, 'lead1': lead1, 'annIdx': annIdx, 'annType': annType}\n",
    "    \n",
    "# 测试数据集的读取情况\n",
    "\n",
    "plt.figure(figsize=(20, 6), dpi=80)\n",
    "plt.plot(trainingSet['109']['lead0'][:6000])\n",
    "temp1 = trainingSet['109']['lead0'][:6000]\n",
    "plt.show()"
   ]
  },
  {
   "cell_type": "markdown",
   "metadata": {},
   "source": [
    "# Data Denoising"
   ]
  },
  {
   "cell_type": "markdown",
   "metadata": {},
   "source": [
    "## Baseline Wander Removal"
   ]
  },
  {
   "cell_type": "code",
   "execution_count": null,
   "metadata": {},
   "outputs": [],
   "source": [
    "for k, v in trainingSet.items():\n",
    "    first_filtered = medfilt(v['lead0'],71)\n",
    "    second_filtered = medfilt(first_filtered,215)\n",
    "    v['lead0'] = v['lead0'] - second_filtered\n",
    "\n",
    "    first_filtered = medfilt(v['lead1'],71)\n",
    "    second_filtered = medfilt(first_filtered,215)\n",
    "    v['lead1'] = v['lead1'] - second_filtered"
   ]
  },
  {
   "cell_type": "code",
   "execution_count": null,
   "metadata": {},
   "outputs": [],
   "source": [
    "# check the effect of denoising \n",
    "plt.figure(figsize=(20, 6), dpi=300)\n",
    "plt.plot(temp1, label = 'ECG signal with baseline wandering')\n",
    "plt.plot(trainingSet['109']['lead0'][:6000], label = 'Signal with removed baseline wandering')\n",
    "\n",
    "temp2 = trainingSet['109']['lead0'][:6000]\n",
    "plt.legend()\n",
    "plt.show()\n"
   ]
  },
  {
   "cell_type": "markdown",
   "metadata": {},
   "source": [
    "## High Frequency Noise Removal in Use of Wavelets Transformation"
   ]
  },
  {
   "cell_type": "code",
   "execution_count": null,
   "metadata": {},
   "outputs": [],
   "source": [
    "def wt(index_list,wavefunc,lv,m,n):  \n",
    "   \n",
    "    coeff = pywt.wavedec(index_list,wavefunc,mode='sym',level=lv)   \n",
    "\n",
    "    sgn = lambda x: 1 if x > 0 else -1 if x < 0 else 0 \n",
    "\n",
    "    for i in range(m,n+1):   \n",
    "        cD = coeff[i]\n",
    "        for j in range(len(cD)):\n",
    "            Tr = np.sqrt(2*np.log(len(cD)))  \n",
    "            if cD[j] >= Tr:\n",
    "                coeff[i][j] = sgn(cD[j]) - Tr  \n",
    "            else:\n",
    "                coeff[i][j] = 0   \n",
    "\n",
    "    denoised_index = pywt.waverec(coeff,wavefunc)\n",
    "    return denoised_index"
   ]
  },
  {
   "cell_type": "code",
   "execution_count": null,
   "metadata": {
    "scrolled": true
   },
   "outputs": [],
   "source": [
    "for k, v in trainingSet.items():\n",
    "    v['lead0'] = wt(v['lead0'],'db4',4,2,4)\n",
    "    v['lead1'] = wt(v['lead1'],'db4',4,2,4)\n",
    "\n",
    "plt.figure(figsize=(20, 6), dpi=80)\n",
    "plt.plot(trainingSet['109']['lead0'][:3000])\n",
    "temp3 = trainingSet['109']['lead0'][:3000]\n",
    "plt.show()"
   ]
  },
  {
   "cell_type": "markdown",
   "metadata": {},
   "source": [
    "# Comparison before and after Preprocessing"
   ]
  },
  {
   "cell_type": "code",
   "execution_count": null,
   "metadata": {},
   "outputs": [],
   "source": [
    "plt.figure(figsize=(20, 15), dpi=80)\n",
    "p1 = plt.subplot(311)\n",
    "p1.set_title('Original signal')\n",
    "p2 = plt.subplot(312)\n",
    "p2.set_title('After baseline wandering removal')\n",
    "p3 = plt.subplot(313)\n",
    "p3.set_title('After noise reduction')\n",
    "\n",
    "plt.subplots_adjust(wspace =0, hspace =0.3)\n",
    "\n",
    "p1.plot(temp1[:2000])\n",
    "p2.plot(temp2[:2000])\n",
    "p3.plot(temp3[:2000])\n",
    "\n",
    "plt.show()"
   ]
  },
  {
   "cell_type": "markdown",
   "metadata": {},
   "source": [
    "# Save Cleaned Data to CSV"
   ]
  },
  {
   "cell_type": "code",
   "execution_count": null,
   "metadata": {},
   "outputs": [],
   "source": [
    "headers = ['lead0', 'lead1', 'annIdx', 'annType']\n",
    "\n",
    "for k, v in trainingSet.items():\n",
    "    df1 = pd.DataFrame({ 'lead0': trainingSet[k]['lead0'], 'lead1': trainingSet[k]['lead1']})\n",
    "    df1.to_csv('Cleaned TrainingSet/' + k + '_lead.csv', index=False)\n",
    "    \n",
    "    df2 = pd.DataFrame({ 'annIdx': trainingSet[k]['annIdx'], 'annType': trainingSet[k]['annType']})\n",
    "    df2.to_csv('Cleaned TrainingSet/' + k + '_ann.csv', index=False)"
   ]
  },
  {
   "cell_type": "code",
   "execution_count": null,
   "metadata": {},
   "outputs": [],
   "source": [
    "# 测试存储情况\n",
    "df_lead = pd.read_csv('Cleaned TrainingSet/109_lead.csv')\n",
    "df_ann = pd.read_csv('Cleaned TrainingSet/109_ann.csv')\n",
    "df_lead\n",
    "df_ann"
   ]
  },
  {
   "cell_type": "code",
   "execution_count": null,
   "metadata": {},
   "outputs": [],
   "source": [
    "plt.figure(figsize=(20, 6), dpi=80)\n",
    "plt.plot(df_lead['lead0'][:3000])\n",
    "plt.show()"
   ]
  },
  {
   "cell_type": "code",
   "execution_count": null,
   "metadata": {},
   "outputs": [],
   "source": []
  }
 ],
 "metadata": {
  "kernelspec": {
   "display_name": "Python 3",
   "language": "python",
   "name": "python3"
  },
  "language_info": {
   "codemirror_mode": {
    "name": "ipython",
    "version": 3
   },
   "file_extension": ".py",
   "mimetype": "text/x-python",
   "name": "python",
   "nbconvert_exporter": "python",
   "pygments_lexer": "ipython3",
   "version": "3.5.2"
  }
 },
 "nbformat": 4,
 "nbformat_minor": 2
}
